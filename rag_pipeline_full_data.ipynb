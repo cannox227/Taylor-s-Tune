{
 "cells": [
  {
   "cell_type": "code",
   "execution_count": 35,
   "metadata": {},
   "outputs": [],
   "source": [
    "import uuid\n",
    "import streamlit as st\n",
    "import pandas as pd\n",
    "import numpy as np\n",
    "import qdrant_client as qc\n",
    "import qdrant_client.http.models as qmodels\n",
    "from torch import cuda\n",
    "from qdrant_client.http.models import *\n",
    "from transformers import AutoModelForCausalLM, AutoTokenizer, pipeline\n",
    "from langchain.embeddings.huggingface import HuggingFaceEmbeddings\n",
    "from langchain_groq import ChatGroq\n",
    "from langchain.vectorstores import Qdrant\n",
    "from langchain.schema import SystemMessage, HumanMessage, AIMessage\n",
    "from langchain.prompts import HumanMessagePromptTemplate, ChatPromptTemplate \n",
    "from langchain.chains.conversation.memory import ConversationBufferWindowMemory \n",
    "from langchain.chains import ConversationChain "
   ]
  },
  {
   "cell_type": "code",
   "execution_count": 36,
   "metadata": {},
   "outputs": [],
   "source": [
    "# embedding model\n",
    "\n",
    "embed_model_id = 'sentence-transformers/all-MiniLM-L6-v2'\n",
    "\n",
    "device = f'cuda:{cuda.current_device()}' if cuda.is_available() else 'cpu'\n",
    "\n",
    "embed_model = HuggingFaceEmbeddings(\n",
    "    model_name=embed_model_id,\n",
    "    model_kwargs={'device': device},\n",
    "    encode_kwargs={'device': device}\n",
    ")"
   ]
  },
  {
   "cell_type": "code",
   "execution_count": 37,
   "metadata": {},
   "outputs": [],
   "source": [
    "client_cluster_URL = st.secrets[\"QDRANT_CLIENT_URL\"] "
   ]
  },
  {
   "cell_type": "code",
   "execution_count": 38,
   "metadata": {},
   "outputs": [],
   "source": [
    "initialized = False # set it to True if the instance is already present \n",
    "\n",
    "client = qc.QdrantClient(client_cluster_URL, api_key=st.secrets['QDRANT_API_KEY'])\n",
    "collection_name = 'Taylor_Song_DataBase_full_lyrics'\n",
    "grade_collection_name = 'Grades_collection'\n",
    "\n",
    "if not initialized:\n",
    "    collection = client.recreate_collection(\n",
    "        collection_name=collection_name,\n",
    "        vectors_config=VectorParams(size=384, distance=Distance.COSINE, on_disk=True),\n",
    "        on_disk_payload=True\n",
    "    )\n",
    "\n",
    "if not initialized:\n",
    "    grade_collection = client.recreate_collection(\n",
    "        collection_name=grade_collection_name,\n",
    "        vectors_config=VectorParams(size=10, distance=Distance.COSINE, on_disk=True),\n",
    "        on_disk_payload=True\n",
    "    )\n"
   ]
  },
  {
   "cell_type": "code",
   "execution_count": 39,
   "metadata": {},
   "outputs": [
    {
     "data": {
      "text/html": [
       "<div>\n",
       "<style scoped>\n",
       "    .dataframe tbody tr th:only-of-type {\n",
       "        vertical-align: middle;\n",
       "    }\n",
       "\n",
       "    .dataframe tbody tr th {\n",
       "        vertical-align: top;\n",
       "    }\n",
       "\n",
       "    .dataframe thead th {\n",
       "        text-align: right;\n",
       "    }\n",
       "</style>\n",
       "<table border=\"1\" class=\"dataframe\">\n",
       "  <thead>\n",
       "    <tr style=\"text-align: right;\">\n",
       "      <th></th>\n",
       "      <th>song_name</th>\n",
       "      <th>album</th>\n",
       "      <th>happy_sad</th>\n",
       "      <th>relationship</th>\n",
       "      <th>feelings_of_self</th>\n",
       "      <th>glass_half_full</th>\n",
       "      <th>stages</th>\n",
       "      <th>tempo</th>\n",
       "      <th>seriousness</th>\n",
       "      <th>future_prospects</th>\n",
       "      <th>feelings_of_male</th>\n",
       "      <th>togetherness</th>\n",
       "      <th>lyrics</th>\n",
       "      <th>spotify_uri</th>\n",
       "      <th>url</th>\n",
       "    </tr>\n",
       "  </thead>\n",
       "  <tbody>\n",
       "    <tr>\n",
       "      <th>0</th>\n",
       "      <td>cold as you</td>\n",
       "      <td>Taylor Swift</td>\n",
       "      <td>-10</td>\n",
       "      <td>-8</td>\n",
       "      <td>-1</td>\n",
       "      <td>-3</td>\n",
       "      <td>-3</td>\n",
       "      <td>-3</td>\n",
       "      <td>-3</td>\n",
       "      <td>-3</td>\n",
       "      <td>-1</td>\n",
       "      <td>-1</td>\n",
       "      <td>You have a way of coming easily to me And when...</td>\n",
       "      <td>7an1exwMnfYRcdVQm0yDev</td>\n",
       "      <td>https://open.spotify.com/track/7an1exwMnfYRcdV...</td>\n",
       "    </tr>\n",
       "    <tr>\n",
       "      <th>1</th>\n",
       "      <td>i'm only me when i'm with you</td>\n",
       "      <td>Taylor Swift</td>\n",
       "      <td>9</td>\n",
       "      <td>10</td>\n",
       "      <td>3</td>\n",
       "      <td>3</td>\n",
       "      <td>1</td>\n",
       "      <td>2</td>\n",
       "      <td>2</td>\n",
       "      <td>2</td>\n",
       "      <td>3</td>\n",
       "      <td>3</td>\n",
       "      <td>Friday night beneath the stars In a field behi...</td>\n",
       "      <td>0JIdBrXGSJXS72zjF9ss9u</td>\n",
       "      <td>https://open.spotify.com/track/0JIdBrXGSJXS72z...</td>\n",
       "    </tr>\n",
       "    <tr>\n",
       "      <th>2</th>\n",
       "      <td>invisible</td>\n",
       "      <td>Taylor Swift</td>\n",
       "      <td>-1</td>\n",
       "      <td>-4</td>\n",
       "      <td>0</td>\n",
       "      <td>-2</td>\n",
       "      <td>1</td>\n",
       "      <td>0</td>\n",
       "      <td>0</td>\n",
       "      <td>0</td>\n",
       "      <td>-1</td>\n",
       "      <td>-3</td>\n",
       "      <td>She can't see the way your eyes Light up when ...</td>\n",
       "      <td>5OOd01o2YS1QFwdpVLds3r</td>\n",
       "      <td>https://open.spotify.com/track/5OOd01o2YS1QFwd...</td>\n",
       "    </tr>\n",
       "    <tr>\n",
       "      <th>3</th>\n",
       "      <td>mary's song</td>\n",
       "      <td>Taylor Swift</td>\n",
       "      <td>5</td>\n",
       "      <td>12</td>\n",
       "      <td>0</td>\n",
       "      <td>2</td>\n",
       "      <td>1</td>\n",
       "      <td>2</td>\n",
       "      <td>3</td>\n",
       "      <td>3</td>\n",
       "      <td>3</td>\n",
       "      <td>3</td>\n",
       "      <td>She said I was seven and you were nine I looke...</td>\n",
       "      <td>2QrQCMel6v2JiLxqrg4p2O</td>\n",
       "      <td>https://open.spotify.com/track/2QrQCMel6v2JiLx...</td>\n",
       "    </tr>\n",
       "    <tr>\n",
       "      <th>4</th>\n",
       "      <td>our song</td>\n",
       "      <td>Taylor Swift</td>\n",
       "      <td>5</td>\n",
       "      <td>6</td>\n",
       "      <td>2</td>\n",
       "      <td>2</td>\n",
       "      <td>1</td>\n",
       "      <td>0</td>\n",
       "      <td>1</td>\n",
       "      <td>1</td>\n",
       "      <td>3</td>\n",
       "      <td>1</td>\n",
       "      <td>I was ridin' shotgun with my hair undone In th...</td>\n",
       "      <td>15DeqWWQB4dcEWzJg15VrN</td>\n",
       "      <td>https://open.spotify.com/track/15DeqWWQB4dcEWz...</td>\n",
       "    </tr>\n",
       "  </tbody>\n",
       "</table>\n",
       "</div>"
      ],
      "text/plain": [
       "                       song_name         album  happy_sad  relationship  \\\n",
       "0                    cold as you  Taylor Swift        -10            -8   \n",
       "1  i'm only me when i'm with you  Taylor Swift          9            10   \n",
       "2                      invisible  Taylor Swift         -1            -4   \n",
       "3                    mary's song  Taylor Swift          5            12   \n",
       "4                       our song  Taylor Swift          5             6   \n",
       "\n",
       "   feelings_of_self  glass_half_full  stages  tempo  seriousness  \\\n",
       "0                -1               -3      -3     -3           -3   \n",
       "1                 3                3       1      2            2   \n",
       "2                 0               -2       1      0            0   \n",
       "3                 0                2       1      2            3   \n",
       "4                 2                2       1      0            1   \n",
       "\n",
       "   future_prospects  feelings_of_male  togetherness  \\\n",
       "0                -3                -1            -1   \n",
       "1                 2                 3             3   \n",
       "2                 0                -1            -3   \n",
       "3                 3                 3             3   \n",
       "4                 1                 3             1   \n",
       "\n",
       "                                              lyrics             spotify_uri  \\\n",
       "0  You have a way of coming easily to me And when...  7an1exwMnfYRcdVQm0yDev   \n",
       "1  Friday night beneath the stars In a field behi...  0JIdBrXGSJXS72zjF9ss9u   \n",
       "2  She can't see the way your eyes Light up when ...  5OOd01o2YS1QFwdpVLds3r   \n",
       "3  She said I was seven and you were nine I looke...  2QrQCMel6v2JiLxqrg4p2O   \n",
       "4  I was ridin' shotgun with my hair undone In th...  15DeqWWQB4dcEWzJg15VrN   \n",
       "\n",
       "                                                 url  \n",
       "0  https://open.spotify.com/track/7an1exwMnfYRcdV...  \n",
       "1  https://open.spotify.com/track/0JIdBrXGSJXS72z...  \n",
       "2  https://open.spotify.com/track/5OOd01o2YS1QFwd...  \n",
       "3  https://open.spotify.com/track/2QrQCMel6v2JiLx...  \n",
       "4  https://open.spotify.com/track/15DeqWWQB4dcEWz...  "
      ]
     },
     "execution_count": 39,
     "metadata": {},
     "output_type": "execute_result"
    }
   ],
   "source": [
    "ts_lyrics = pd.read_csv('data/cleaned_data/rag_dataset.csv')\n",
    "ts_lyrics['lyrics'] = ts_lyrics['lyrics'].apply(lambda x: x.replace('\\n', ''))\n",
    "ts_lyrics['lyrics'] = ts_lyrics['lyrics'].apply(lambda x: x.replace('\\r', ''))\n",
    "ts_lyrics.head()"
   ]
  },
  {
   "cell_type": "code",
   "execution_count": 40,
   "metadata": {},
   "outputs": [],
   "source": [
    "vectors = embed_model.embed_documents(ts_lyrics['lyrics'])"
   ]
  },
  {
   "cell_type": "markdown",
   "metadata": {},
   "source": [
    "# Add to song collection"
   ]
  },
  {
   "cell_type": "code",
   "execution_count": 41,
   "metadata": {},
   "outputs": [
    {
     "name": "stdout",
     "output_type": "stream",
     "text": [
      "Processing song number 30\n",
      "The number of verses is 1710\n",
      "Processing song number 60\n",
      "The number of verses is 1738\n",
      "Processing song number 90\n",
      "The number of verses is 3472\n",
      "Processing song number 120\n",
      "The number of verses is 1697\n",
      "Processing song number 150\n",
      "The number of verses is 1406\n",
      "Processing song number 180\n",
      "The number of verses is 1471\n"
     ]
    }
   ],
   "source": [
    "if not initialized:\n",
    "    for i in range(0, len(ts_lyrics)):\n",
    "        if((i+1) % 30 == 0):\n",
    "            print(f'Processing song number {i+1}')\n",
    "            print(f'The number of verses is {len(ts_lyrics.iloc[i][\"lyrics\"])}')\n",
    "        song = ts_lyrics.iloc[i]\n",
    "        vector = [vectors[i]]\n",
    "        payload = []\n",
    "        ids = []\n",
    "\n",
    "        ids.append(str(uuid.uuid4()))\n",
    "\n",
    "        payload.append({\n",
    "            'page_content': song['lyrics'], \n",
    "            'metadata':{\n",
    "                'song_name': f\"{song['song_name']}\",\n",
    "                'album': song['album'],\n",
    "                'happy_sad': song['happy_sad'].item(),\n",
    "                'relationship': song['relationship'].item(),\n",
    "                'feeling_of_self': song['feelings_of_self'].item(),\n",
    "                'glass_half_full': song['glass_half_full'].item(),\n",
    "                'stages': song['stages'].item(),\n",
    "                'tempo': song['tempo'].item(),\n",
    "                'seriousness': song['seriousness'].item(),\n",
    "                'future_prospect': song['future_prospects'].item(),\n",
    "                'feelings_of_male': song['feelings_of_male'].item(),\n",
    "                'togetherness': song['togetherness'].item(),\n",
    "                'url': song['url'],\n",
    "                'lyrics': song['lyrics']}\n",
    "        })\n",
    "\n",
    "        client.upsert(\n",
    "            collection_name=collection_name,\n",
    "            points=Batch(\n",
    "                ids=ids,\n",
    "                vectors=vector,\n",
    "                payloads=payload\n",
    "            )\n",
    "        )"
   ]
  },
  {
   "cell_type": "markdown",
   "metadata": {},
   "source": [
    "# Add to grades collection"
   ]
  },
  {
   "cell_type": "code",
   "execution_count": 42,
   "metadata": {},
   "outputs": [],
   "source": [
    "if not initialized:\n",
    "    for i in range(0, len(ts_lyrics)):\n",
    "        song = ts_lyrics.iloc[i]\n",
    "        grades = [[ int(grade) for grade in song[2:12]]]\n",
    "\n",
    "        grade_payload = []\n",
    "        grade_ids = []\n",
    "\n",
    "        grade_ids.append(str(uuid.uuid4()))\n",
    "\n",
    "        grade_payload.append({\n",
    "            'song_grade': grades, \n",
    "            'metadata':{\n",
    "                'song_name': f\"{song['song_name']}\",\n",
    "                'album': song['album'],\n",
    "                'happy_sad': song['happy_sad'].item(),\n",
    "                'relationship': song['relationship'].item(),\n",
    "                'feeling_of_self': song['feelings_of_self'].item(),\n",
    "                'glass_half_full': song['glass_half_full'].item(),\n",
    "                'stages': song['stages'].item(),\n",
    "                'tempo': song['tempo'].item(),\n",
    "                'seriousness': song['seriousness'].item(),\n",
    "                'future_prospect': song['future_prospects'].item(),\n",
    "                'feelings_of_male': song['feelings_of_male'].item(),\n",
    "                'togetherness': song['togetherness'].item(),\n",
    "                'url':song['url'],\n",
    "                'lyrics': song['lyrics']}\n",
    "        })\n",
    "\n",
    "\n",
    "        client.upsert(\n",
    "                    collection_name=grade_collection_name,\n",
    "                    points=Batch(\n",
    "                        ids=grade_ids,\n",
    "                        vectors=grades,\n",
    "                        payloads=grade_payload\n",
    "                    )\n",
    "                )"
   ]
  },
  {
   "cell_type": "markdown",
   "metadata": {},
   "source": [
    "## Searching using lyrics DB"
   ]
  },
  {
   "cell_type": "code",
   "execution_count": 43,
   "metadata": {},
   "outputs": [
    {
     "data": {
      "text/plain": [
       "['anti hero',\n",
       " 'tis the damn season',\n",
       " 'closure',\n",
       " 'this is me trying',\n",
       " 'cold as you']"
      ]
     },
     "execution_count": 43,
     "metadata": {},
     "output_type": "execute_result"
    }
   ],
   "source": [
    "song_db = Qdrant(client=client, collection_name=collection_name, embeddings=embed_model)\n",
    "# grades_db = Qdrant(client=client, collection_name=grade_collection_name)\n",
    "\n",
    "query = \"\"\"I feel incredibly sad and depressed. One of my close family member just pass away. I wasn't able to say my final good bye to them because I was so far away. I don't know if I can recover from this\"\"\"\n",
    "\n",
    "[doc.metadata['song_name'] for doc in song_db.similarity_search(query, k=5)]"
   ]
  },
  {
   "cell_type": "code",
   "execution_count": 44,
   "metadata": {},
   "outputs": [],
   "source": [
    "conv_mem_length = st.slider(\n",
    "                \"Memory Length:\",\n",
    "                min_value=1,\n",
    "                max_value=10,\n",
    "                value=5,\n",
    "                help=\"Adjust the conversational memory length for the chatbot. This will affect the context of the conversation.\"\n",
    "            )\n",
    "memory=ConversationBufferWindowMemory(k=conv_mem_length)\n",
    "groq_client = ChatGroq(temperature=0, model_name='mixtral-8x7b-32768', api_key=st.secrets[\"GROQ_API_KEY\"])\n",
    "\n",
    "conversation = ConversationChain(\n",
    "        llm=groq_client,\n",
    "        memory=memory,\n",
    ")"
   ]
  },
  {
   "cell_type": "code",
   "execution_count": 45,
   "metadata": {},
   "outputs": [],
   "source": [
    "prompt_template = ChatPromptTemplate.from_messages(\n",
    "                [\n",
    "                    SystemMessage(\n",
    "                        content = (\"\"\"\n",
    "                                   You are an AI assistant that has to detect the score for each criteria from the user's input. The scores are explained below:\n",
    "                                   Criteria 1: Feelings of self\n",
    "                                   -3 - Feels fully responsible for problems\n",
    "                                   -2 - Feels partial responsibility for problems \n",
    "                                   -1 - Hints at self-deprecation \n",
    "                                   0  - No feelings mentioned/ambiguous feelings \n",
    "                                   1  - Overall positive with serious insecurities \n",
    "                                   2  - Overall positive with some reservations\n",
    "                                   3  - Secure and trusting in life circumstances \n",
    "\n",
    "                                   Criteria 2: Glass half full\n",
    "                                   -3 - All imagery is depressing \n",
    "                                   -2 - Nearly all depressing imagery  \n",
    "                                   -1 - Majority depressing imagery\n",
    "                                   0  - Equal amounts of happy and sad imagery  \n",
    "                                   1  - Majority positive imagery\n",
    "                                   2  - Nearly all positive imagery\n",
    "                                   3  - All imagery is positive \n",
    "\n",
    "                                   Criteria 3: Stages of depression\n",
    "                                   -3 - Anger / Depression\n",
    "                                   -2 - Bargaining\n",
    "                                   -1 - Denial\n",
    "                                   0  - Acceptance. If you don't know what to give, just give this score\n",
    "                                   1  - Passively wanting to be happy \n",
    "                                   2  - Actively working for her happiness \n",
    "                                   3  - Actively working for her own and others' happiness\n",
    "\n",
    "                                   Criteria 4: Tempo\n",
    "                                   0 - No tempo, this is not a song\n",
    "\n",
    "                                   Criteria 5: Seriousness\n",
    "                                   -3 - Cataclysmic past offenses \n",
    "                                   -2 - Some past hurt feelings\n",
    "                                   -1 - Unspecified relationship endings\n",
    "                                   0  - Not discussed/Pining\n",
    "                                   1  - Puppy love/One night stand \n",
    "                                   2  - Some real world things to discuss\n",
    "                                   3  - Discussion of marriage/equally serious topics\n",
    "\n",
    "                                   Criteria 6: Future prospects\n",
    "                                   -3 - Permanent end to communication \n",
    "                                   -2 - Significant decrease in contact \n",
    "                                   -1 - Possible decrease in contact \n",
    "                                   0  - No discussion of future/Ambiguous \n",
    "                                   1  - Casual or potential future plans  \n",
    "                                   2  - Some set future plans\n",
    "                                   3  - Marriage/Bound for life \n",
    "\n",
    "                                   Criteria 7: Feelings of males\n",
    "                                   -3 - He tells all his friends he hates her\n",
    "                                   -2 - He makes a face when her name is mentioned but doesn't publicly hate on her \n",
    "                                   -1 - He doesn't want to date but likes her as a friend\n",
    "                                   0  - No information/Ambiguous. If you're not sure, also give this score\n",
    "                                   1  - He expressed casual interest in a relationship\n",
    "                                   2  - They are dating but not that seriously (she hasn't met his parents)\n",
    "                                   3  - Public declaration of love/commitment\n",
    "\n",
    "                                   Criteria 8: Togetherness\n",
    "                                   -3 - Barriers to joint actions \n",
    "                                   -2 - No joint actions \n",
    "                                   -1 - More things apart than together \n",
    "                                   0  - Equal amounts of time together and apart\n",
    "                                   1  - More things together than apart \n",
    "                                   2  - They do everything together\n",
    "                                   3  - No identity as an individual \n",
    "\n",
    "\n",
    "                                   This is your only goal. Don't try to do anything else.\n",
    "                                   If the user input is not clear, you have to ask the user to provide more details. \n",
    "                                   Like explaining what he/she is feeling or provide a specific episode that is related to the user mood.\n",
    "                                   If the user ask you something else, or ask for a clarification, you have just to explain what is your goal.\n",
    "\n",
    "                                   You should return:\n",
    "                                   - Before giving the score, starts with the following string \"========\"\n",
    "                                   - The score of 8 criteria. Give the score as a list of 8 numbers corresponding to each score, seperated by a comma. No explanation needed. Remember, the scores need to be a number between -3 and 3, no other symbols are allowed.\n",
    "                                   - After giving the score, ends with the following string \"========\"\n",
    "\n",
    "                        \"\"\")\n",
    "                    ),\n",
    "                    HumanMessagePromptTemplate.from_template(\"{text}\")\n",
    "                ]\n",
    "            )\n",
    "\n",
    "# Insert the user input into the prompt template\n",
    "prompt = prompt_template.format_messages(text=query)\n",
    "# Send the prompt to the conversation chain\n",
    "message = conversation.invoke(prompt)"
   ]
  },
  {
   "cell_type": "code",
   "execution_count": 46,
   "metadata": {},
   "outputs": [
    {
     "data": {
      "text/plain": [
       "{'input': [SystemMessage(content='\\n                                   You are an AI assistant that has to detect the score for each criteria from the user\\'s input. The scores are explained below:\\n                                   Criteria 1: Feelings of self\\n                                   -3 - Feels fully responsible for problems\\n                                   -2 - Feels partial responsibility for problems \\n                                   -1 - Hints at self-deprecation \\n                                   0  - No feelings mentioned/ambiguous feelings \\n                                   1  - Overall positive with serious insecurities \\n                                   2  - Overall positive with some reservations\\n                                   3  - Secure and trusting in life circumstances \\n\\n                                   Criteria 2: Glass half full\\n                                   -3 - All imagery is depressing \\n                                   -2 - Nearly all depressing imagery  \\n                                   -1 - Majority depressing imagery\\n                                   0  - Equal amounts of happy and sad imagery  \\n                                   1  - Majority positive imagery\\n                                   2  - Nearly all positive imagery\\n                                   3  - All imagery is positive \\n\\n                                   Criteria 3: Stages of depression\\n                                   -3 - Anger / Depression\\n                                   -2 - Bargaining\\n                                   -1 - Denial\\n                                   0  - Acceptance. If you don\\'t know what to give, just give this score\\n                                   1  - Passively wanting to be happy \\n                                   2  - Actively working for her happiness \\n                                   3  - Actively working for her own and others\\' happiness\\n\\n                                   Criteria 4: Tempo\\n                                   0 - No tempo, this is not a song\\n\\n                                   Criteria 5: Seriousness\\n                                   -3 - Cataclysmic past offenses \\n                                   -2 - Some past hurt feelings\\n                                   -1 - Unspecified relationship endings\\n                                   0  - Not discussed/Pining\\n                                   1  - Puppy love/One night stand \\n                                   2  - Some real world things to discuss\\n                                   3  - Discussion of marriage/equally serious topics\\n\\n                                   Criteria 6: Future prospects\\n                                   -3 - Permanent end to communication \\n                                   -2 - Significant decrease in contact \\n                                   -1 - Possible decrease in contact \\n                                   0  - No discussion of future/Ambiguous \\n                                   1  - Casual or potential future plans  \\n                                   2  - Some set future plans\\n                                   3  - Marriage/Bound for life \\n\\n                                   Criteria 7: Feelings of males\\n                                   -3 - He tells all his friends he hates her\\n                                   -2 - He makes a face when her name is mentioned but doesn\\'t publicly hate on her \\n                                   -1 - He doesn\\'t want to date but likes her as a friend\\n                                   0  - No information/Ambiguous. If you\\'re not sure, also give this score\\n                                   1  - He expressed casual interest in a relationship\\n                                   2  - They are dating but not that seriously (she hasn\\'t met his parents)\\n                                   3  - Public declaration of love/commitment\\n\\n                                   Criteria 8: Togetherness\\n                                   -3 - Barriers to joint actions \\n                                   -2 - No joint actions \\n                                   -1 - More things apart than together \\n                                   0  - Equal amounts of time together and apart\\n                                   1  - More things together than apart \\n                                   2  - They do everything together\\n                                   3  - No identity as an individual \\n\\n\\n                                   This is your only goal. Don\\'t try to do anything else.\\n                                   If the user input is not clear, you have to ask the user to provide more details. \\n                                   Like explaining what he/she is feeling or provide a specific episode that is related to the user mood.\\n                                   If the user ask you something else, or ask for a clarification, you have just to explain what is your goal.\\n\\n                                   You should return:\\n                                   - Before giving the score, starts with the following string \"========\"\\n                                   - The score of 8 criteria. Give the score as a list of 8 numbers corresponding to each score, seperated by a comma. No explanation needed. Remember, the scores need to be a number between -3 and 3, no other symbols are allowed.\\n                                   - After giving the score, ends with the following string \"========\"\\n\\n                        '),\n",
       "  HumanMessage(content=\"I feel incredibly sad and depressed. One of my close family member just pass away. I wasn't able to say my final good bye to them because I was so far away. I don't know if I can recover from this\")],\n",
       " 'history': '',\n",
       " 'response': '=======\\n-2, -3, 0, 0, -3, -3, 0, -3\\n======='}"
      ]
     },
     "execution_count": 46,
     "metadata": {},
     "output_type": "execute_result"
    }
   ],
   "source": [
    "message"
   ]
  },
  {
   "cell_type": "code",
   "execution_count": 47,
   "metadata": {},
   "outputs": [],
   "source": [
    "# message['response'].split('========')[1].split(',').apply(lambda x: x.strip())\n",
    "\n",
    "query_grades = [int(x.strip()) for x in message['response'].split('=======')[1].split(',')]"
   ]
  },
  {
   "cell_type": "code",
   "execution_count": 48,
   "metadata": {},
   "outputs": [
    {
     "data": {
      "text/plain": [
       "[-5, -9, -2, -3, 0, 0, -3, -3, 0, -3]"
      ]
     },
     "execution_count": 48,
     "metadata": {},
     "output_type": "execute_result"
    }
   ],
   "source": [
    "query_grades.insert(0, sum(query_grades[:4]))\n",
    "query_grades.insert(1, sum(query_grades[5:]))\n",
    "query_grades"
   ]
  },
  {
   "cell_type": "markdown",
   "metadata": {},
   "source": [
    "## Searching using grades (criteria) DB"
   ]
  },
  {
   "cell_type": "code",
   "execution_count": 49,
   "metadata": {},
   "outputs": [
    {
     "name": "stdout",
     "output_type": "stream",
     "text": [
      "champagne problems\n",
      "bye bye baby\n",
      "i almost do\n"
     ]
    }
   ],
   "source": [
    "res = client.search(\n",
    "    collection_name = grade_collection_name,\n",
    "    query_vector = query_grades,\n",
    "    limit=3\n",
    ")\n",
    "\n",
    "res[0].payload['metadata']['song_name']\n",
    "\n",
    "print(\"\\n\".join([ song.payload['metadata']['song_name'] for song in res]))"
   ]
  },
  {
   "cell_type": "code",
   "execution_count": 50,
   "metadata": {},
   "outputs": [
    {
     "data": {
      "text/plain": [
       "384"
      ]
     },
     "execution_count": 50,
     "metadata": {},
     "output_type": "execute_result"
    }
   ],
   "source": [
    "len(embed_model.embed_documents(['something in the wind'])[0])"
   ]
  }
 ],
 "metadata": {
  "kernelspec": {
   "display_name": "Python 3",
   "language": "python",
   "name": "python3"
  },
  "language_info": {
   "codemirror_mode": {
    "name": "ipython",
    "version": 3
   },
   "file_extension": ".py",
   "mimetype": "text/x-python",
   "name": "python",
   "nbconvert_exporter": "python",
   "pygments_lexer": "ipython3",
   "version": "3.11.5"
  }
 },
 "nbformat": 4,
 "nbformat_minor": 2
}
