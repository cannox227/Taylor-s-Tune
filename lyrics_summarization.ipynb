{
 "cells": [
  {
   "cell_type": "code",
   "execution_count": 1,
   "metadata": {},
   "outputs": [],
   "source": [
    "import pandas as pd\n",
    "import numpy as np\n",
    "import streamlit as st\n",
    "import time\n",
    "from langchain_groq import ChatGroq\n",
    "from langchain.schema import SystemMessage, HumanMessage, AIMessage\n",
    "from langchain.prompts import HumanMessagePromptTemplate, ChatPromptTemplate\n",
    "from langchain.chains import ConversationChain "
   ]
  },
  {
   "cell_type": "code",
   "execution_count": 2,
   "metadata": {},
   "outputs": [
    {
     "data": {
      "text/html": [
       "<div>\n",
       "<style scoped>\n",
       "    .dataframe tbody tr th:only-of-type {\n",
       "        vertical-align: middle;\n",
       "    }\n",
       "\n",
       "    .dataframe tbody tr th {\n",
       "        vertical-align: top;\n",
       "    }\n",
       "\n",
       "    .dataframe thead th {\n",
       "        text-align: right;\n",
       "    }\n",
       "</style>\n",
       "<table border=\"1\" class=\"dataframe\">\n",
       "  <thead>\n",
       "    <tr style=\"text-align: right;\">\n",
       "      <th></th>\n",
       "      <th>song_name</th>\n",
       "      <th>album</th>\n",
       "      <th>happy_sad</th>\n",
       "      <th>relationship</th>\n",
       "      <th>feelings_of_self</th>\n",
       "      <th>glass_half_full</th>\n",
       "      <th>stages</th>\n",
       "      <th>tempo</th>\n",
       "      <th>seriousness</th>\n",
       "      <th>future_prospects</th>\n",
       "      <th>feelings_of_male</th>\n",
       "      <th>togetherness</th>\n",
       "      <th>lyrics</th>\n",
       "      <th>spotify_uri</th>\n",
       "      <th>url</th>\n",
       "    </tr>\n",
       "  </thead>\n",
       "  <tbody>\n",
       "    <tr>\n",
       "      <th>0</th>\n",
       "      <td>cold as you</td>\n",
       "      <td>Taylor Swift</td>\n",
       "      <td>-10</td>\n",
       "      <td>-8</td>\n",
       "      <td>-1</td>\n",
       "      <td>-3</td>\n",
       "      <td>-3</td>\n",
       "      <td>-3</td>\n",
       "      <td>-3</td>\n",
       "      <td>-3</td>\n",
       "      <td>-1</td>\n",
       "      <td>-1</td>\n",
       "      <td>You have a way of coming easily to me\\n And wh...</td>\n",
       "      <td>7an1exwMnfYRcdVQm0yDev</td>\n",
       "      <td>https://open.spotify.com/track/7an1exwMnfYRcdV...</td>\n",
       "    </tr>\n",
       "    <tr>\n",
       "      <th>1</th>\n",
       "      <td>i'm only me when i'm with you</td>\n",
       "      <td>Taylor Swift</td>\n",
       "      <td>9</td>\n",
       "      <td>10</td>\n",
       "      <td>3</td>\n",
       "      <td>3</td>\n",
       "      <td>1</td>\n",
       "      <td>2</td>\n",
       "      <td>2</td>\n",
       "      <td>2</td>\n",
       "      <td>3</td>\n",
       "      <td>3</td>\n",
       "      <td>Friday night beneath the stars\\n In a field be...</td>\n",
       "      <td>0JIdBrXGSJXS72zjF9ss9u</td>\n",
       "      <td>https://open.spotify.com/track/0JIdBrXGSJXS72z...</td>\n",
       "    </tr>\n",
       "    <tr>\n",
       "      <th>2</th>\n",
       "      <td>invisible</td>\n",
       "      <td>Taylor Swift</td>\n",
       "      <td>-1</td>\n",
       "      <td>-4</td>\n",
       "      <td>0</td>\n",
       "      <td>-2</td>\n",
       "      <td>1</td>\n",
       "      <td>0</td>\n",
       "      <td>0</td>\n",
       "      <td>0</td>\n",
       "      <td>-1</td>\n",
       "      <td>-3</td>\n",
       "      <td>She can't see the way your eyes\\n Light up whe...</td>\n",
       "      <td>5OOd01o2YS1QFwdpVLds3r</td>\n",
       "      <td>https://open.spotify.com/track/5OOd01o2YS1QFwd...</td>\n",
       "    </tr>\n",
       "    <tr>\n",
       "      <th>3</th>\n",
       "      <td>mary's song</td>\n",
       "      <td>Taylor Swift</td>\n",
       "      <td>5</td>\n",
       "      <td>12</td>\n",
       "      <td>0</td>\n",
       "      <td>2</td>\n",
       "      <td>1</td>\n",
       "      <td>2</td>\n",
       "      <td>3</td>\n",
       "      <td>3</td>\n",
       "      <td>3</td>\n",
       "      <td>3</td>\n",
       "      <td>She said I was seven and you were nine\\n I loo...</td>\n",
       "      <td>2QrQCMel6v2JiLxqrg4p2O</td>\n",
       "      <td>https://open.spotify.com/track/2QrQCMel6v2JiLx...</td>\n",
       "    </tr>\n",
       "    <tr>\n",
       "      <th>4</th>\n",
       "      <td>our song</td>\n",
       "      <td>Taylor Swift</td>\n",
       "      <td>5</td>\n",
       "      <td>6</td>\n",
       "      <td>2</td>\n",
       "      <td>2</td>\n",
       "      <td>1</td>\n",
       "      <td>0</td>\n",
       "      <td>1</td>\n",
       "      <td>1</td>\n",
       "      <td>3</td>\n",
       "      <td>1</td>\n",
       "      <td>I was ridin' shotgun with my hair undone\\n In ...</td>\n",
       "      <td>15DeqWWQB4dcEWzJg15VrN</td>\n",
       "      <td>https://open.spotify.com/track/15DeqWWQB4dcEWz...</td>\n",
       "    </tr>\n",
       "  </tbody>\n",
       "</table>\n",
       "</div>"
      ],
      "text/plain": [
       "                       song_name         album  happy_sad  relationship  \\\n",
       "0                    cold as you  Taylor Swift        -10            -8   \n",
       "1  i'm only me when i'm with you  Taylor Swift          9            10   \n",
       "2                      invisible  Taylor Swift         -1            -4   \n",
       "3                    mary's song  Taylor Swift          5            12   \n",
       "4                       our song  Taylor Swift          5             6   \n",
       "\n",
       "   feelings_of_self  glass_half_full  stages  tempo  seriousness  \\\n",
       "0                -1               -3      -3     -3           -3   \n",
       "1                 3                3       1      2            2   \n",
       "2                 0               -2       1      0            0   \n",
       "3                 0                2       1      2            3   \n",
       "4                 2                2       1      0            1   \n",
       "\n",
       "   future_prospects  feelings_of_male  togetherness  \\\n",
       "0                -3                -1            -1   \n",
       "1                 2                 3             3   \n",
       "2                 0                -1            -3   \n",
       "3                 3                 3             3   \n",
       "4                 1                 3             1   \n",
       "\n",
       "                                              lyrics             spotify_uri  \\\n",
       "0  You have a way of coming easily to me\\n And wh...  7an1exwMnfYRcdVQm0yDev   \n",
       "1  Friday night beneath the stars\\n In a field be...  0JIdBrXGSJXS72zjF9ss9u   \n",
       "2  She can't see the way your eyes\\n Light up whe...  5OOd01o2YS1QFwdpVLds3r   \n",
       "3  She said I was seven and you were nine\\n I loo...  2QrQCMel6v2JiLxqrg4p2O   \n",
       "4  I was ridin' shotgun with my hair undone\\n In ...  15DeqWWQB4dcEWzJg15VrN   \n",
       "\n",
       "                                                 url  \n",
       "0  https://open.spotify.com/track/7an1exwMnfYRcdV...  \n",
       "1  https://open.spotify.com/track/0JIdBrXGSJXS72z...  \n",
       "2  https://open.spotify.com/track/5OOd01o2YS1QFwd...  \n",
       "3  https://open.spotify.com/track/2QrQCMel6v2JiLx...  \n",
       "4  https://open.spotify.com/track/15DeqWWQB4dcEWz...  "
      ]
     },
     "execution_count": 2,
     "metadata": {},
     "output_type": "execute_result"
    }
   ],
   "source": [
    "lyrics_df = pd.read_csv(\"data/cleaned_data/rag_dataset.csv\")\n",
    "lyrics_df['lyrics'] = lyrics_df['lyrics'].apply(lambda x: x.replace('\\r', ''))\n",
    "lyrics_df.head()"
   ]
  },
  {
   "cell_type": "code",
   "execution_count": 26,
   "metadata": {},
   "outputs": [],
   "source": [
    "groq_client = ChatGroq(temperature=0, model_name='mixtral-8x7b-32768', api_key=st.secrets[\"GROQ_API_KEY\"])\n",
    "conversation = ConversationChain(\n",
    "        llm=groq_client,\n",
    ")"
   ]
  },
  {
   "cell_type": "code",
   "execution_count": 27,
   "metadata": {},
   "outputs": [],
   "source": [
    "prompt_template = ChatPromptTemplate.from_messages(\n",
    "                [\n",
    "                    SystemMessage(\n",
    "                        content = (\"\"\"You are an AI assistant that has to provide a little description (with a maximum of 150 characters) of the meaning of a Taylor Swfit song given its lyrics.\n",
    "\n",
    "                                   This is your only task. You just have to output a short description of the meaning of the song. The description must start with an open curly bracket and has to end with a closed curly bracket.\n",
    "                        \"\"\")\n",
    "                    ),\n",
    "                    HumanMessagePromptTemplate.from_template(\"{text}\")\n",
    "                ]\n",
    "            )"
   ]
  },
  {
   "cell_type": "code",
   "execution_count": 5,
   "metadata": {},
   "outputs": [
    {
     "data": {
      "text/plain": [
       "array([\"You have a way of coming easily to me\\n And when you take, you take the very best of me\\n So I start a fight 'cause I need to feel something\\n And you do what you want 'cause I'm not what you wanted\\n \\n Oh, what a shame, what a rainy ending\\n Given to a perfect day\\n Just walk away, ain't no use defending\\n Words that you will never say\\n And now that I'm sitting here thinking it through\\n I've never been anywhere cold as you\\n \\n You put up walls and paint them all a shade of gray\\n And I stood there loving you and wished them all away\\n And you come away with a great little story\\n Of a mess of a dreamer with the nerve to adore you\\n \\n Oh, what a shame, what a rainy ending\\n Given to a perfect day\\n So just walk away, ain't no use defending\\n Words that you will never say\\n And now that I'm sitting here thinking it through\\n I've never been anywhere cold as you\\n   \\n You never did give a damn thing, honey\\n But I cried, cried for you\\n And I know you wouldn't have told nobody\\n If I died, died for you, died for you\\n \\n Oh, what a shame, what a rainy ending\\n Given to a perfect day, oh\\n Every smile you fake is so condescending\\n Counting all the scars you made\\n And now that I'm sitting here thinking it through\\n I've never been anywhere cold as you\\n Ooh-oh \",\n",
       "       \"Friday night beneath the stars\\n In a field behind your yard\\n You and I are painting pictures in the sky\\n And sometimes, we don't say a thing\\n Just listen to the crickets sing\\n Everything I need is right here by my side\\n \\n And I know everything about you\\n I don't wanna live without you\\n \\n I'm only up when you're not down\\n Don't wanna fly if you're still on the ground\\n It's like no matter what I do\\n Well, you drive me crazy half the time\\n The other half, I'm only tryin' to\\n Let you know that what I feel is true\\n And I'm only me when I'm with you\\n \\n Just a small-town boy and girl\\n Livin' in a crazy world\\n Tryna figure out what is and isn't true\\n And I don't try to hide my tears\\n My secrets or my deepest fears\\n Through it all, nobody gets me like you do\\n   \\n And you know everything about me\\n You say that you can't live without me\\n \\n I'm only up when you're not down\\n Don't wanna fly if you're still on the ground\\n It's like no matter what I do\\n Well, you drive me crazy half the time\\n The other half, I'm only tryin' to\\n Let you know that what I feel is true\\n And I'm only me when I'm with you\\n \\n When I'm with anybody else\\n It's so hard to be myself\\n And only you can tell\\n \\n That I'm only up when you're not down\\n Don't wanna fly if you're still on the ground\\n It's like no matter what I do\\n Well, you drive me crazy half the time\\n The other half, I'm only tryin' to\\n Let you know that what I feel is true\\n And I'm only me\\n Who I wanna be\\n Well, I'm only me when I'm with you\\n With you\\n Uh-huh-huh, yeah \"],\n",
       "      dtype=object)"
      ]
     },
     "execution_count": 5,
     "metadata": {},
     "output_type": "execute_result"
    }
   ],
   "source": [
    "lyrics_test = lyrics_df.iloc[:2]['lyrics'].values\n",
    "lyrics_test"
   ]
  },
  {
   "cell_type": "code",
   "execution_count": 6,
   "metadata": {},
   "outputs": [
    {
     "data": {
      "text/plain": [
       "{'input': [SystemMessage(content='You are an AI assistant that has to provide a little description (with a maximum of 150 characters) of the meaning of a Taylor Swfit song given its lyrics.\\n\\n                                   This is your only task. You just have to output a short description of the meaning of the song. The description must start with an open curly bracket and has to end with a closed curly bracket.\\n                        '),\n",
       "  HumanMessage(content=\"You have a way of coming easily to me\\n And when you take, you take the very best of me\\n So I start a fight 'cause I need to feel something\\n And you do what you want 'cause I'm not what you wanted\\n \\n Oh, what a shame, what a rainy ending\\n Given to a perfect day\\n Just walk away, ain't no use defending\\n Words that you will never say\\n And now that I'm sitting here thinking it through\\n I've never been anywhere cold as you\\n \\n You put up walls and paint them all a shade of gray\\n And I stood there loving you and wished them all away\\n And you come away with a great little story\\n Of a mess of a dreamer with the nerve to adore you\\n \\n Oh, what a shame, what a rainy ending\\n Given to a perfect day\\n So just walk away, ain't no use defending\\n Words that you will never say\\n And now that I'm sitting here thinking it through\\n I've never been anywhere cold as you\\n   \\n You never did give a damn thing, honey\\n But I cried, cried for you\\n And I know you wouldn't have told nobody\\n If I died, died for you, died for you\\n \\n Oh, what a shame, what a rainy ending\\n Given to a perfect day, oh\\n Every smile you fake is so condescending\\n Counting all the scars you made\\n And now that I'm sitting here thinking it through\\n I've never been anywhere cold as you\\n Ooh-oh \")],\n",
       " 'history': '',\n",
       " 'response': '{\"This song seems to describe the pain and betrayal felt when someone takes advantage of a loving relationship, with the speaker lamenting the other\\'s lack of commitment and the cold, gray walls they\\'ve built.\"}'}"
      ]
     },
     "execution_count": 6,
     "metadata": {},
     "output_type": "execute_result"
    }
   ],
   "source": [
    "query = lyrics_test[0]\n",
    "prompt = prompt_template.format_messages(text=query)\n",
    "response = conversation.invoke(prompt)\n",
    "response"
   ]
  },
  {
   "cell_type": "code",
   "execution_count": 8,
   "metadata": {},
   "outputs": [],
   "source": [
    "lyrics_df['description'] = None"
   ]
  },
  {
   "cell_type": "code",
   "execution_count": 34,
   "metadata": {},
   "outputs": [
    {
     "name": "stdout",
     "output_type": "stream",
     "text": [
      "Processing entry 112\n",
      "content='You are an AI assistant that has to provide a little description (with a maximum of 150 characters) of the meaning of a Taylor Swfit song given its lyrics.\\n\\n                                   This is your only task. You just have to output a short description of the meaning of the song. The description must start with an open curly bracket and has to end with a closed curly bracket.\\n                        '\n",
      "dict_keys(['input', 'history', 'response'])\n",
      "Processing entry 113\n",
      "content='You are an AI assistant that has to provide a little description (with a maximum of 150 characters) of the meaning of a Taylor Swfit song given its lyrics.\\n\\n                                   This is your only task. You just have to output a short description of the meaning of the song. The description must start with an open curly bracket and has to end with a closed curly bracket.\\n                        '\n",
      "Error: Error code: 429 - {'error': {'message': 'Rate limit reached for model `mixtral-8x7b-32768` in organization `org_01hs0xshbjeygvryjeavaq7ens` on tokens per minute (TPM): Limit 18000, Used 28409, Requested ~13198. Please try again in 1m18.691666666s. Visit https://console.groq.com/docs/rate-limits for more information.', 'type': 'tokens', 'code': 'rate_limit_exceeded'}}\n",
      "Processing entry 114\n",
      "content='You are an AI assistant that has to provide a little description (with a maximum of 150 characters) of the meaning of a Taylor Swfit song given its lyrics.\\n\\n                                   This is your only task. You just have to output a short description of the meaning of the song. The description must start with an open curly bracket and has to end with a closed curly bracket.\\n                        '\n",
      "dict_keys(['input', 'history', 'response'])\n"
     ]
    }
   ],
   "source": [
    "start = 112\n",
    "end = 130\n",
    "for entry, row in enumerate(lyrics_df[start:end].iterrows()):\n",
    "    print(f\"Processing entry {entry+start}\")\n",
    "    query = row[1]['lyrics']\n",
    "    prompt = prompt_template.format_messages(text=query)\n",
    "    print(prompt[0])\n",
    "    try:\n",
    "        message = conversation.invoke(prompt)\n",
    "        print(message.keys())\n",
    "        lyrics_df.loc[row[0], 'description'] = message['response'].replace(\"Description: \", \"\").replace(\"{\", \"\").replace(\"}\", \"\").replace('\"', \"\")\n",
    "        time.sleep(20)\n",
    "    except Exception as e:\n",
    "        print(f'Error: {e}')\n",
    "        entry-=1\n",
    "        groq_client = ChatGroq(temperature=0, model_name='mixtral-8x7b-32768', api_key=st.secrets[\"GROQ_API_KEY\"])\n",
    "        conversation = ConversationChain(\n",
    "                llm=groq_client,\n",
    "        )\n",
    "        time.sleep(30)\n",
    "        "
   ]
  },
  {
   "cell_type": "code",
   "execution_count": 33,
   "metadata": {},
   "outputs": [
    {
     "data": {
      "text/plain": [
       "100    The song portrays a tumultuous, intense relati...\n",
       "101    The song reflects on a past, destructive love ...\n",
       "102    The song portrays the pain of a breakup, descr...\n",
       "103    The song portrays an intense, passionate relat...\n",
       "104    The song portrays moving on from a toxic relat...\n",
       "105    The song expresses the singer's strong attract...\n",
       "106    The song portrays the innocence and joy of chi...\n",
       "107    The song expresses the singer's love for a Lon...\n",
       "108    The song celebrates a deep, lasting love that ...\n",
       "109    The song highlights a passionate, confident lo...\n",
       "110    The song portrays a deep love story within a h...\n",
       "111    The song portrays a deep, committed love betwe...\n",
       "112                                                 None\n",
       "113                                                 None\n",
       "114                                                 None\n",
       "115                                                 None\n",
       "116                                                 None\n",
       "117                                                 None\n",
       "118                                                 None\n",
       "119                                                 None\n",
       "Name: description, dtype: object"
      ]
     },
     "execution_count": 33,
     "metadata": {},
     "output_type": "execute_result"
    }
   ],
   "source": [
    "lyrics_df.iloc[100:120]['description']"
   ]
  },
  {
   "cell_type": "code",
   "execution_count": 30,
   "metadata": {},
   "outputs": [],
   "source": [
    "# save csv as enchanced rag_dataset\n",
    "lyrics_df.to_csv(\"data/cleaned_data/rag_dataset_enhanced.csv\", index=False)"
   ]
  }
 ],
 "metadata": {
  "kernelspec": {
   "display_name": ".venv",
   "language": "python",
   "name": "python3"
  },
  "language_info": {
   "codemirror_mode": {
    "name": "ipython",
    "version": 3
   },
   "file_extension": ".py",
   "mimetype": "text/x-python",
   "name": "python",
   "nbconvert_exporter": "python",
   "pygments_lexer": "ipython3",
   "version": "3.11.5"
  }
 },
 "nbformat": 4,
 "nbformat_minor": 2
}
