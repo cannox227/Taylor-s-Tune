{
 "cells": [
  {
   "cell_type": "code",
   "execution_count": 1,
   "metadata": {},
   "outputs": [],
   "source": [
    "import pandas as pd\n",
    "import numpy as np"
   ]
  },
  {
   "cell_type": "code",
   "execution_count": 2,
   "metadata": {},
   "outputs": [],
   "source": [
    "lyrics = pd.read_excel('data/original_data/Taylor_Swift_Genius_Data.xlsx', index_col=0).reset_index(drop=True)\n",
    "metadata = pd.read_excel('data/original_data/Taylor_Swift_Spotify_Data.xlsx', index_col=0).reset_index(drop=True)\n",
    "\n",
    "lyrics.columns = ['album', 'song_name', 'lyrics'] \n",
    "metadata.columns = ['album', 'song_name', 'danceability', 'energy', 'key', 'loudness', 'mode', 'speechiness', 'acousticness', 'instrumentalness', 'liveness', 'valence', 'tempo', 'duration_ms', 'time_signature']\n",
    "\n",
    "\n",
    "lyrics['album'] = lyrics['album'].apply(lambda x: str(x).lower())\n",
    "metadata['album'] = metadata['album'].apply(lambda x: str(x).lower())\n",
    "\n",
    "lyrics['song_name'] = lyrics['song_name'].apply(lambda x: str(x).lower())\n",
    "metadata['song_name'] = metadata['song_name'].apply(lambda x: str(x).lower())"
   ]
  },
  {
   "cell_type": "code",
   "execution_count": 3,
   "metadata": {},
   "outputs": [],
   "source": [
    "merged_dt = pd.merge(metadata,lyrics, on=['song_name', 'album'])\n",
    "merged_dt.to_csv('data/cleaned_data/lyrics_metadata.csv', index=False)"
   ]
  }
 ],
 "metadata": {
  "kernelspec": {
   "display_name": "Python 3",
   "language": "python",
   "name": "python3"
  },
  "language_info": {
   "codemirror_mode": {
    "name": "ipython",
    "version": 3
   },
   "file_extension": ".py",
   "mimetype": "text/x-python",
   "name": "python",
   "nbconvert_exporter": "python",
   "pygments_lexer": "ipython3",
   "version": "3.10.7"
  }
 },
 "nbformat": 4,
 "nbformat_minor": 2
}
